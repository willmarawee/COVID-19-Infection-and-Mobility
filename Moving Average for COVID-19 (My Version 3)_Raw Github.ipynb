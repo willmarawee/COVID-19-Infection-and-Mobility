{
 "cells": [
  {
   "cell_type": "code",
   "execution_count": 1,
   "metadata": {},
   "outputs": [],
   "source": [
    "#Moving Average for COVID-19\n",
    "#Reference\n",
    "#https://towardsdatascience.com/modeling-covid-19-epidemic-with-python-bed21b8f6baf"
   ]
  },
  {
   "cell_type": "code",
   "execution_count": 3,
   "metadata": {},
   "outputs": [],
   "source": [
    "#Modeling COVID-19 epidemic with Python\n",
    "\n",
    "#Import data and extracting fields\n",
    "import pandas as pd\n",
    "from datetime import datetime, timedelta\n",
    "import matplotlib.pyplot as plt\n",
    "from matplotlib.dates import DateFormatter\n",
    "import matplotlib.dates as mdates"
   ]
  },
  {
   "cell_type": "code",
   "execution_count": 4,
   "metadata": {},
   "outputs": [
    {
     "name": "stdout",
     "output_type": "stream",
     "text": [
      "Index(['date', 'states', 'positive', 'negative', 'pending',\n",
      "       'hospitalizedCurrently', 'hospitalizedCumulative', 'inIcuCurrently',\n",
      "       'inIcuCumulative', 'onVentilatorCurrently', 'onVentilatorCumulative',\n",
      "       'recovered', 'dateChecked', 'death', 'hospitalized', 'lastModified',\n",
      "       'total', 'totalTestResults', 'posNeg', 'deathIncrease',\n",
      "       'hospitalizedIncrease', 'negativeIncrease', 'positiveIncrease',\n",
      "       'totalTestResultsIncrease', 'hash'],\n",
      "      dtype='object')\n"
     ]
    }
   ],
   "source": [
    "#Exploring the data US daily report\n",
    "data = pd.read_csv(\"https://raw.githubusercontent.com/willmarawee/COVID-19-Infection-and-Mobility/master/daily.csv\")\n",
    "print (data.columns)\n"
   ]
  },
  {
   "cell_type": "code",
   "execution_count": 5,
   "metadata": {},
   "outputs": [
    {
     "data": {
      "text/html": [
       "<div>\n",
       "<style scoped>\n",
       "    .dataframe tbody tr th:only-of-type {\n",
       "        vertical-align: middle;\n",
       "    }\n",
       "\n",
       "    .dataframe tbody tr th {\n",
       "        vertical-align: top;\n",
       "    }\n",
       "\n",
       "    .dataframe thead th {\n",
       "        text-align: right;\n",
       "    }\n",
       "</style>\n",
       "<table border=\"1\" class=\"dataframe\">\n",
       "  <thead>\n",
       "    <tr style=\"text-align: right;\">\n",
       "      <th></th>\n",
       "      <th>date</th>\n",
       "      <th>states</th>\n",
       "      <th>positive</th>\n",
       "      <th>negative</th>\n",
       "      <th>pending</th>\n",
       "      <th>hospitalizedCurrently</th>\n",
       "      <th>hospitalizedCumulative</th>\n",
       "      <th>inIcuCurrently</th>\n",
       "      <th>inIcuCumulative</th>\n",
       "      <th>onVentilatorCurrently</th>\n",
       "      <th>...</th>\n",
       "      <th>lastModified</th>\n",
       "      <th>total</th>\n",
       "      <th>totalTestResults</th>\n",
       "      <th>posNeg</th>\n",
       "      <th>deathIncrease</th>\n",
       "      <th>hospitalizedIncrease</th>\n",
       "      <th>negativeIncrease</th>\n",
       "      <th>positiveIncrease</th>\n",
       "      <th>totalTestResultsIncrease</th>\n",
       "      <th>hash</th>\n",
       "    </tr>\n",
       "  </thead>\n",
       "  <tbody>\n",
       "    <tr>\n",
       "      <td>0</td>\n",
       "      <td>20200606</td>\n",
       "      <td>56</td>\n",
       "      <td>1916053</td>\n",
       "      <td>17862820.0</td>\n",
       "      <td>1796.0</td>\n",
       "      <td>30909.0</td>\n",
       "      <td>216259.0</td>\n",
       "      <td>6754.0</td>\n",
       "      <td>8920.0</td>\n",
       "      <td>3476.0</td>\n",
       "      <td>...</td>\n",
       "      <td>2020-06-06T00:00:00Z</td>\n",
       "      <td>19780669</td>\n",
       "      <td>19778873</td>\n",
       "      <td>19778873</td>\n",
       "      <td>746</td>\n",
       "      <td>1007</td>\n",
       "      <td>524103</td>\n",
       "      <td>23326</td>\n",
       "      <td>547429</td>\n",
       "      <td>ec8ad700549425fcbea2a43cc84a1d9d5bdc84dc</td>\n",
       "    </tr>\n",
       "    <tr>\n",
       "      <td>1</td>\n",
       "      <td>20200605</td>\n",
       "      <td>56</td>\n",
       "      <td>1892727</td>\n",
       "      <td>17338717.0</td>\n",
       "      <td>1749.0</td>\n",
       "      <td>31335.0</td>\n",
       "      <td>215252.0</td>\n",
       "      <td>6912.0</td>\n",
       "      <td>8863.0</td>\n",
       "      <td>3523.0</td>\n",
       "      <td>...</td>\n",
       "      <td>2020-06-05T00:00:00Z</td>\n",
       "      <td>19233193</td>\n",
       "      <td>19231444</td>\n",
       "      <td>19231444</td>\n",
       "      <td>1100</td>\n",
       "      <td>1440</td>\n",
       "      <td>522300</td>\n",
       "      <td>28615</td>\n",
       "      <td>550915</td>\n",
       "      <td>049411d107563da0cd8a0864bc267a80b46123ac</td>\n",
       "    </tr>\n",
       "    <tr>\n",
       "      <td>2</td>\n",
       "      <td>20200604</td>\n",
       "      <td>56</td>\n",
       "      <td>1864112</td>\n",
       "      <td>16816417.0</td>\n",
       "      <td>3474.0</td>\n",
       "      <td>31659.0</td>\n",
       "      <td>213812.0</td>\n",
       "      <td>7054.0</td>\n",
       "      <td>8787.0</td>\n",
       "      <td>3665.0</td>\n",
       "      <td>...</td>\n",
       "      <td>2020-06-04T00:00:00Z</td>\n",
       "      <td>18684003</td>\n",
       "      <td>18680529</td>\n",
       "      <td>18680529</td>\n",
       "      <td>884</td>\n",
       "      <td>-2828</td>\n",
       "      <td>444782</td>\n",
       "      <td>20797</td>\n",
       "      <td>465579</td>\n",
       "      <td>346ee956f287e783d7c182058085c9840357cb44</td>\n",
       "    </tr>\n",
       "    <tr>\n",
       "      <td>3</td>\n",
       "      <td>20200603</td>\n",
       "      <td>56</td>\n",
       "      <td>1843315</td>\n",
       "      <td>16371635.0</td>\n",
       "      <td>3556.0</td>\n",
       "      <td>32081.0</td>\n",
       "      <td>216640.0</td>\n",
       "      <td>7224.0</td>\n",
       "      <td>8688.0</td>\n",
       "      <td>3749.0</td>\n",
       "      <td>...</td>\n",
       "      <td>2020-06-03T00:00:00Z</td>\n",
       "      <td>18218506</td>\n",
       "      <td>18214950</td>\n",
       "      <td>18214950</td>\n",
       "      <td>971</td>\n",
       "      <td>2258</td>\n",
       "      <td>437066</td>\n",
       "      <td>20046</td>\n",
       "      <td>457112</td>\n",
       "      <td>5174063654cc33728ecaebda44ace05e0c0a95ac</td>\n",
       "    </tr>\n",
       "    <tr>\n",
       "      <td>4</td>\n",
       "      <td>20200602</td>\n",
       "      <td>56</td>\n",
       "      <td>1823269</td>\n",
       "      <td>15934569.0</td>\n",
       "      <td>4054.0</td>\n",
       "      <td>32728.0</td>\n",
       "      <td>214382.0</td>\n",
       "      <td>7403.0</td>\n",
       "      <td>8566.0</td>\n",
       "      <td>3852.0</td>\n",
       "      <td>...</td>\n",
       "      <td>2020-06-02T00:00:00Z</td>\n",
       "      <td>17761892</td>\n",
       "      <td>17757838</td>\n",
       "      <td>17757838</td>\n",
       "      <td>1168</td>\n",
       "      <td>1678</td>\n",
       "      <td>393648</td>\n",
       "      <td>23508</td>\n",
       "      <td>417156</td>\n",
       "      <td>5e2b49203edfff9e99b9012af1f1f92193d5311b</td>\n",
       "    </tr>\n",
       "  </tbody>\n",
       "</table>\n",
       "<p>5 rows × 25 columns</p>\n",
       "</div>"
      ],
      "text/plain": [
       "       date  states  positive    negative  pending  hospitalizedCurrently  \\\n",
       "0  20200606      56   1916053  17862820.0   1796.0                30909.0   \n",
       "1  20200605      56   1892727  17338717.0   1749.0                31335.0   \n",
       "2  20200604      56   1864112  16816417.0   3474.0                31659.0   \n",
       "3  20200603      56   1843315  16371635.0   3556.0                32081.0   \n",
       "4  20200602      56   1823269  15934569.0   4054.0                32728.0   \n",
       "\n",
       "   hospitalizedCumulative  inIcuCurrently  inIcuCumulative  \\\n",
       "0                216259.0          6754.0           8920.0   \n",
       "1                215252.0          6912.0           8863.0   \n",
       "2                213812.0          7054.0           8787.0   \n",
       "3                216640.0          7224.0           8688.0   \n",
       "4                214382.0          7403.0           8566.0   \n",
       "\n",
       "   onVentilatorCurrently  ...          lastModified     total  \\\n",
       "0                 3476.0  ...  2020-06-06T00:00:00Z  19780669   \n",
       "1                 3523.0  ...  2020-06-05T00:00:00Z  19233193   \n",
       "2                 3665.0  ...  2020-06-04T00:00:00Z  18684003   \n",
       "3                 3749.0  ...  2020-06-03T00:00:00Z  18218506   \n",
       "4                 3852.0  ...  2020-06-02T00:00:00Z  17761892   \n",
       "\n",
       "  totalTestResults    posNeg  deathIncrease hospitalizedIncrease  \\\n",
       "0         19778873  19778873            746                 1007   \n",
       "1         19231444  19231444           1100                 1440   \n",
       "2         18680529  18680529            884                -2828   \n",
       "3         18214950  18214950            971                 2258   \n",
       "4         17757838  17757838           1168                 1678   \n",
       "\n",
       "   negativeIncrease  positiveIncrease  totalTestResultsIncrease  \\\n",
       "0            524103             23326                    547429   \n",
       "1            522300             28615                    550915   \n",
       "2            444782             20797                    465579   \n",
       "3            437066             20046                    457112   \n",
       "4            393648             23508                    417156   \n",
       "\n",
       "                                       hash  \n",
       "0  ec8ad700549425fcbea2a43cc84a1d9d5bdc84dc  \n",
       "1  049411d107563da0cd8a0864bc267a80b46123ac  \n",
       "2  346ee956f287e783d7c182058085c9840357cb44  \n",
       "3  5174063654cc33728ecaebda44ace05e0c0a95ac  \n",
       "4  5e2b49203edfff9e99b9012af1f1f92193d5311b  \n",
       "\n",
       "[5 rows x 25 columns]"
      ]
     },
     "execution_count": 5,
     "metadata": {},
     "output_type": "execute_result"
    }
   ],
   "source": [
    "#view data\n",
    "data.head()\n"
   ]
  },
  {
   "cell_type": "code",
   "execution_count": 6,
   "metadata": {},
   "outputs": [
    {
     "data": {
      "text/plain": [
       "[Timestamp('2020-06-06 00:00:00'),\n",
       " Timestamp('2020-06-05 00:00:00'),\n",
       " Timestamp('2020-06-04 00:00:00'),\n",
       " Timestamp('2020-06-03 00:00:00'),\n",
       " Timestamp('2020-06-02 00:00:00'),\n",
       " Timestamp('2020-06-01 00:00:00'),\n",
       " Timestamp('2020-05-31 00:00:00'),\n",
       " Timestamp('2020-05-30 00:00:00'),\n",
       " Timestamp('2020-05-29 00:00:00'),\n",
       " Timestamp('2020-05-28 00:00:00'),\n",
       " Timestamp('2020-05-27 00:00:00'),\n",
       " Timestamp('2020-05-26 00:00:00'),\n",
       " Timestamp('2020-05-25 00:00:00'),\n",
       " Timestamp('2020-05-24 00:00:00'),\n",
       " Timestamp('2020-05-23 00:00:00'),\n",
       " Timestamp('2020-05-22 00:00:00'),\n",
       " Timestamp('2020-05-21 00:00:00'),\n",
       " Timestamp('2020-05-20 00:00:00'),\n",
       " Timestamp('2020-05-19 00:00:00'),\n",
       " Timestamp('2020-05-18 00:00:00'),\n",
       " Timestamp('2020-05-17 00:00:00'),\n",
       " Timestamp('2020-05-16 00:00:00'),\n",
       " Timestamp('2020-05-15 00:00:00'),\n",
       " Timestamp('2020-05-14 00:00:00'),\n",
       " Timestamp('2020-05-13 00:00:00'),\n",
       " Timestamp('2020-05-12 00:00:00'),\n",
       " Timestamp('2020-05-11 00:00:00'),\n",
       " Timestamp('2020-05-10 00:00:00'),\n",
       " Timestamp('2020-05-09 00:00:00'),\n",
       " Timestamp('2020-05-08 00:00:00'),\n",
       " Timestamp('2020-05-07 00:00:00'),\n",
       " Timestamp('2020-05-06 00:00:00'),\n",
       " Timestamp('2020-05-05 00:00:00'),\n",
       " Timestamp('2020-05-04 00:00:00'),\n",
       " Timestamp('2020-05-03 00:00:00'),\n",
       " Timestamp('2020-05-02 00:00:00'),\n",
       " Timestamp('2020-05-01 00:00:00'),\n",
       " Timestamp('2020-04-30 00:00:00'),\n",
       " Timestamp('2020-04-29 00:00:00'),\n",
       " Timestamp('2020-04-28 00:00:00'),\n",
       " Timestamp('2020-04-27 00:00:00'),\n",
       " Timestamp('2020-04-26 00:00:00'),\n",
       " Timestamp('2020-04-25 00:00:00'),\n",
       " Timestamp('2020-04-24 00:00:00'),\n",
       " Timestamp('2020-04-23 00:00:00'),\n",
       " Timestamp('2020-04-22 00:00:00'),\n",
       " Timestamp('2020-04-21 00:00:00'),\n",
       " Timestamp('2020-04-20 00:00:00'),\n",
       " Timestamp('2020-04-19 00:00:00'),\n",
       " Timestamp('2020-04-18 00:00:00'),\n",
       " Timestamp('2020-04-17 00:00:00'),\n",
       " Timestamp('2020-04-16 00:00:00'),\n",
       " Timestamp('2020-04-15 00:00:00'),\n",
       " Timestamp('2020-04-14 00:00:00'),\n",
       " Timestamp('2020-04-13 00:00:00'),\n",
       " Timestamp('2020-04-12 00:00:00'),\n",
       " Timestamp('2020-04-11 00:00:00'),\n",
       " Timestamp('2020-04-10 00:00:00'),\n",
       " Timestamp('2020-04-09 00:00:00'),\n",
       " Timestamp('2020-04-08 00:00:00'),\n",
       " Timestamp('2020-04-07 00:00:00'),\n",
       " Timestamp('2020-04-06 00:00:00'),\n",
       " Timestamp('2020-04-05 00:00:00'),\n",
       " Timestamp('2020-04-04 00:00:00'),\n",
       " Timestamp('2020-04-03 00:00:00'),\n",
       " Timestamp('2020-04-02 00:00:00'),\n",
       " Timestamp('2020-04-01 00:00:00'),\n",
       " Timestamp('2020-03-31 00:00:00'),\n",
       " Timestamp('2020-03-30 00:00:00'),\n",
       " Timestamp('2020-03-29 00:00:00'),\n",
       " Timestamp('2020-03-28 00:00:00'),\n",
       " Timestamp('2020-03-27 00:00:00'),\n",
       " Timestamp('2020-03-26 00:00:00'),\n",
       " Timestamp('2020-03-25 00:00:00'),\n",
       " Timestamp('2020-03-24 00:00:00'),\n",
       " Timestamp('2020-03-23 00:00:00'),\n",
       " Timestamp('2020-03-22 00:00:00'),\n",
       " Timestamp('2020-03-21 00:00:00'),\n",
       " Timestamp('2020-03-20 00:00:00'),\n",
       " Timestamp('2020-03-19 00:00:00'),\n",
       " Timestamp('2020-03-18 00:00:00'),\n",
       " Timestamp('2020-03-17 00:00:00'),\n",
       " Timestamp('2020-03-16 00:00:00'),\n",
       " Timestamp('2020-03-15 00:00:00'),\n",
       " Timestamp('2020-03-14 00:00:00'),\n",
       " Timestamp('2020-03-13 00:00:00'),\n",
       " Timestamp('2020-03-12 00:00:00'),\n",
       " Timestamp('2020-03-11 00:00:00'),\n",
       " Timestamp('2020-03-10 00:00:00'),\n",
       " Timestamp('2020-03-09 00:00:00'),\n",
       " Timestamp('2020-03-08 00:00:00'),\n",
       " Timestamp('2020-03-07 00:00:00'),\n",
       " Timestamp('2020-03-06 00:00:00'),\n",
       " Timestamp('2020-03-05 00:00:00'),\n",
       " Timestamp('2020-03-04 00:00:00'),\n",
       " Timestamp('2020-03-03 00:00:00'),\n",
       " Timestamp('2020-03-02 00:00:00'),\n",
       " Timestamp('2020-03-01 00:00:00'),\n",
       " Timestamp('2020-02-29 00:00:00'),\n",
       " Timestamp('2020-02-28 00:00:00'),\n",
       " Timestamp('2020-02-27 00:00:00'),\n",
       " Timestamp('2020-02-26 00:00:00'),\n",
       " Timestamp('2020-02-25 00:00:00'),\n",
       " Timestamp('2020-02-24 00:00:00'),\n",
       " Timestamp('2020-02-23 00:00:00'),\n",
       " Timestamp('2020-02-22 00:00:00'),\n",
       " Timestamp('2020-02-21 00:00:00'),\n",
       " Timestamp('2020-02-20 00:00:00'),\n",
       " Timestamp('2020-02-19 00:00:00'),\n",
       " Timestamp('2020-02-18 00:00:00'),\n",
       " Timestamp('2020-02-17 00:00:00'),\n",
       " Timestamp('2020-02-16 00:00:00'),\n",
       " Timestamp('2020-02-15 00:00:00'),\n",
       " Timestamp('2020-02-14 00:00:00'),\n",
       " Timestamp('2020-02-13 00:00:00'),\n",
       " Timestamp('2020-02-12 00:00:00'),\n",
       " Timestamp('2020-02-11 00:00:00'),\n",
       " Timestamp('2020-02-10 00:00:00'),\n",
       " Timestamp('2020-02-09 00:00:00'),\n",
       " Timestamp('2020-02-08 00:00:00'),\n",
       " Timestamp('2020-02-07 00:00:00'),\n",
       " Timestamp('2020-02-06 00:00:00'),\n",
       " Timestamp('2020-02-05 00:00:00'),\n",
       " Timestamp('2020-02-04 00:00:00'),\n",
       " Timestamp('2020-02-03 00:00:00'),\n",
       " Timestamp('2020-02-02 00:00:00'),\n",
       " Timestamp('2020-02-01 00:00:00'),\n",
       " Timestamp('2020-01-31 00:00:00'),\n",
       " Timestamp('2020-01-30 00:00:00'),\n",
       " Timestamp('2020-01-29 00:00:00'),\n",
       " Timestamp('2020-01-28 00:00:00'),\n",
       " Timestamp('2020-01-27 00:00:00'),\n",
       " Timestamp('2020-01-26 00:00:00'),\n",
       " Timestamp('2020-01-25 00:00:00'),\n",
       " Timestamp('2020-01-24 00:00:00'),\n",
       " Timestamp('2020-01-23 00:00:00'),\n",
       " Timestamp('2020-01-22 00:00:00')]"
      ]
     },
     "execution_count": 6,
     "metadata": {},
     "output_type": "execute_result"
    }
   ],
   "source": [
    "data['diff_hospitalizedCurrently'] = data['hospitalizedCurrently'].diff()\n",
    "data['diff_totalTestResults'] = data['totalTestResults'].diff()\n",
    "\n",
    "dates = data['date']\n",
    "date_format = [pd.to_datetime(d, format = \"%Y%m%d\", errors=\"ignore\") for d in dates]\n",
    "date_format"
   ]
  },
  {
   "cell_type": "code",
   "execution_count": null,
   "metadata": {},
   "outputs": [],
   "source": []
  },
  {
   "cell_type": "code",
   "execution_count": 7,
   "metadata": {},
   "outputs": [
    {
     "name": "stderr",
     "output_type": "stream",
     "text": [
      "C:\\Users\\maraw\\Anaconda3\\lib\\site-packages\\pandas\\plotting\\_matplotlib\\converter.py:103: FutureWarning: Using an implicitly registered datetime converter for a matplotlib plotting method. The converter was registered by pandas on import. Future versions of pandas will require you to explicitly register matplotlib converters.\n",
      "\n",
      "To register the converters:\n",
      "\t>>> from pandas.plotting import register_matplotlib_converters\n",
      "\t>>> register_matplotlib_converters()\n",
      "  warnings.warn(msg, FutureWarning)\n"
     ]
    },
    {
     "data": {
      "image/png": "[encoded data removed]",
      "text/plain": [
       "<Figure size 864x360 with 1 Axes>"
      ]
     },
     "metadata": {
      "needs_background": "light"
     },
     "output_type": "display_data"
    }
   ],
   "source": [
    "#Visualizing Data\n",
    "variable = 'positive'\n",
    "fig, ax = plt.subplots(figsize=(12, 5))\n",
    "ax.grid()\n",
    "ax.scatter(date_format,data[variable])\n",
    "ax.set(xlabel=\"date\",ylabel=variable,title=variable)\n",
    "date_form = DateFormatter(\"%d-%m\")\n",
    "ax.xaxis.set_major_formatter(date_form)\n",
    "ax.xaxis.set_major_locator(mdates.DayLocator(interval = 14))\n",
    "fig.savefig(variable + '.png')\n",
    "plt.show()"
   ]
  },
  {
   "cell_type": "code",
   "execution_count": null,
   "metadata": {},
   "outputs": [],
   "source": []
  },
  {
   "cell_type": "code",
   "execution_count": 8,
   "metadata": {},
   "outputs": [
    {
     "data": {
      "image/png": "[encoded data removed]",
      "text/plain": [
       "<Figure size 864x360 with 1 Axes>"
      ]
     },
     "metadata": {
      "needs_background": "light"
     },
     "output_type": "display_data"
    }
   ],
   "source": [
    "#Correcting Biases\n",
    "rolling_average_days = 7\n",
    "data['positive_moving'] = data['positive'].rolling(window=rolling_average_days).mean()\n",
    "variable = 'positive_moving'\n",
    "fig, ax = plt.subplots(figsize=(12, 5))\n",
    "ax.grid()\n",
    "ax.scatter(date_format,data[variable])\n",
    "ax.set(xlabel=\"date\",ylabel=variable,title=variable)\n",
    "date_form = DateFormatter(\"%d-%m\")\n",
    "ax.xaxis.set_major_formatter(date_form)\n",
    "ax.xaxis.set_major_locator(mdates.DayLocator(interval = 14))\n",
    "fig.savefig(variable + '.png')\n",
    "plt.show()"
   ]
  },
  {
   "cell_type": "code",
   "execution_count": 9,
   "metadata": {},
   "outputs": [
    {
     "data": {
      "image/png": "[encoded data removed]",
      "text/plain": [
       "<Figure size 864x360 with 1 Axes>"
      ]
     },
     "metadata": {
      "needs_background": "light"
     },
     "output_type": "display_data"
    }
   ],
   "source": [
    "\n",
    "##Calculating moving_average\n",
    "##In this case, this calculation reflects better accuration of data\n",
    "data['totalTestResults_moving'] = data['totalTestResults'].rolling(window=rolling_average_days).mean()\n",
    "variable = 'totalTestResults_moving'\n",
    "fig, ax = plt.subplots(figsize=(12, 5))\n",
    "ax.grid()\n",
    "ax.scatter(date_format,data[variable])\n",
    "ax.set(xlabel=\"date\",ylabel=variable,title=variable)\n",
    "date_form = DateFormatter(\"%d-%m\")\n",
    "ax.xaxis.set_major_formatter(date_form)\n",
    "ax.xaxis.set_major_locator(mdates.DayLocator(interval = 14))\n",
    "fig.savefig(variable + '.png')\n",
    "plt.show()"
   ]
  },
  {
   "cell_type": "code",
   "execution_count": 10,
   "metadata": {},
   "outputs": [
    {
     "data": {
      "image/png": "[encoded data removed]",
      "text/plain": [
       "<Figure size 864x360 with 1 Axes>"
      ]
     },
     "metadata": {
      "needs_background": "light"
     },
     "output_type": "display_data"
    }
   ],
   "source": [
    "\n",
    "#Calculte the percentage of positive cases\n",
    "data['perc_positive'] = ((data['positive_moving'])/(data['totalTestResults_moving'])*100)\n",
    "variable = 'perc_positive'\n",
    "fig, ax = plt.subplots(figsize=(12, 5))\n",
    "ax.grid()\n",
    "ax.scatter(date_format,data[variable])\n",
    "ax.set(xlabel=\"date\",ylabel=variable,title=variable)\n",
    "date_form = DateFormatter(\"%d-%m\")\n",
    "ax.xaxis.set_major_formatter(date_form)\n",
    "ax.xaxis.set_major_locator(mdates.DayLocator(interval = 14))\n",
    "fig.savefig(variable + '.png')\n",
    "plt.show()"
   ]
  },
  {
   "cell_type": "code",
   "execution_count": 11,
   "metadata": {},
   "outputs": [
    {
     "data": {
      "image/png": "[encoded data removed]",
      "text/plain": [
       "<Figure size 864x360 with 1 Axes>"
      ]
     },
     "metadata": {
      "needs_background": "light"
     },
     "output_type": "display_data"
    }
   ],
   "source": [
    "variable = 'hospitalizedCurrently'\n",
    "fig, ax = plt.subplots(figsize=(12, 5))\n",
    "ax.grid()\n",
    "ax.scatter(date_format,data[variable])\n",
    "ax.set(xlabel=\"date\",ylabel=variable,title=variable)\n",
    "date_form = DateFormatter(\"%d-%m\")\n",
    "ax.xaxis.set_major_formatter(date_form)\n",
    "ax.xaxis.set_major_locator(mdates.DayLocator(interval = 14))\n",
    "fig.savefig(variable + '.png')\n",
    "plt.show()"
   ]
  },
  {
   "cell_type": "code",
   "execution_count": null,
   "metadata": {},
   "outputs": [],
   "source": []
  },
  {
   "cell_type": "code",
   "execution_count": 13,
   "metadata": {},
   "outputs": [
    {
     "data": {
      "image/png": "[encoded data removed]",
      "text/plain": [
       "<Figure size 864x360 with 1 Axes>"
      ]
     },
     "metadata": {
      "needs_background": "light"
     },
     "output_type": "display_data"
    }
   ],
   "source": [
    "##Creating derived variable for the model\n",
    "\n",
    "data['gravi_death'] = data['hospitalizedCurrently'] + data['deathIncrease']\n",
    "variable = 'gravi_death'\n",
    "fig, ax = plt.subplots(figsize=(12, 5))\n",
    "ax.grid()\n",
    "ax.scatter(date_format,data[variable])\n",
    "ax.set(xlabel=\"Date\",ylabel=variable,title=variable)\n",
    "date_form = DateFormatter(\"%d-%m\")\n",
    "ax.xaxis.set_major_formatter(date_form)\n",
    "ax.xaxis.set_major_locator(mdates.DayLocator(interval = 14))\n",
    "ax.axvline(datetime(2020, 4, 15), c=\"green\", zorder=0)\n",
    "fig.savefig(variable + '.png')\n",
    "plt.show()"
   ]
  },
  {
   "cell_type": "code",
   "execution_count": null,
   "metadata": {},
   "outputs": [],
   "source": []
  },
  {
   "cell_type": "code",
   "execution_count": 14,
   "metadata": {},
   "outputs": [],
   "source": [
    "##Clean up data\n",
    "data = data.dropna(subset = [\"gravi_death\"])"
   ]
  },
  {
   "cell_type": "code",
   "execution_count": 15,
   "metadata": {},
   "outputs": [
    {
     "data": {
      "text/plain": [
       "False"
      ]
     },
     "execution_count": 15,
     "metadata": {},
     "output_type": "execute_result"
    }
   ],
   "source": [
    "##Verify that data was cleaned\n",
    "data[\"gravi_death\"].isnull().values.any()"
   ]
  },
  {
   "cell_type": "code",
   "execution_count": 16,
   "metadata": {},
   "outputs": [],
   "source": [
    "#Repeat the code to avoid error of following code\n",
    "dates = data['date']\n",
    "date_format = [pd.to_datetime(d, format = \"%Y%m%d\", errors=\"ignore\") for d in dates]"
   ]
  },
  {
   "cell_type": "code",
   "execution_count": null,
   "metadata": {},
   "outputs": [],
   "source": []
  },
  {
   "cell_type": "code",
   "execution_count": 17,
   "metadata": {},
   "outputs": [
    {
     "name": "stdout",
     "output_type": "stream",
     "text": [
      "Linear Regression Model Score: 0.9428574017856506\n"
     ]
    }
   ],
   "source": [
    "##Modeling the epidemic trend\n",
    "import numpy as np\n",
    "from sklearn import linear_model\n",
    "\n",
    "# prepare the lists for the model\n",
    "X = date_format\n",
    "y = data[\"gravi_death\"].tolist()[1:]\n",
    "\n",
    "# date format is not suitable for modeling, let's transform the date into incrementals number starting from April 15th\n",
    "starting_date = 53  # April 15th is the 53th day of the series\n",
    "day_numbers = []\n",
    "for i in range(1, len(X)):\n",
    "    day_numbers.append([i])\n",
    "X = day_numbers\n",
    "\n",
    "# let's train our model only with data after the peak\n",
    "X = X[starting_date:]\n",
    "y = y[starting_date:]\n",
    "\n",
    "# Instantiate Linear Regression\n",
    "linear_regr = linear_model.LinearRegression()\n",
    "\n",
    "# Train the model using the training sets\n",
    "linear_regr.fit(X, y)\n",
    "print (\"Linear Regression Model Score: %s\" % (linear_regr.score(X, y)))\n"
   ]
  },
  {
   "cell_type": "code",
   "execution_count": null,
   "metadata": {},
   "outputs": [],
   "source": []
  },
  {
   "cell_type": "code",
   "execution_count": 18,
   "metadata": {},
   "outputs": [],
   "source": [
    "# Predict future trend\n",
    "from sklearn.metrics import max_error\n",
    "import math\n",
    "y_pred = linear_regr.predict(X)\n",
    "error = max_error(y, y_pred)"
   ]
  },
  {
   "cell_type": "code",
   "execution_count": 19,
   "metadata": {},
   "outputs": [],
   "source": [
    "X_test = []\n",
    "future_days = 55\n",
    "for i in range(starting_date, starting_date + future_days):\n",
    "    X_test.append([i])\n",
    "y_pred_linear = linear_regr.predict(X_test)"
   ]
  },
  {
   "cell_type": "code",
   "execution_count": 20,
   "metadata": {},
   "outputs": [],
   "source": [
    "y_pred_max = []\n",
    "y_pred_min = []\n",
    "for i in range(0, len(y_pred_linear)):\n",
    "    y_pred_max.append(y_pred_linear[i] + error)\n",
    "    y_pred_min.append(y_pred_linear[i] - error)"
   ]
  },
  {
   "cell_type": "code",
   "execution_count": null,
   "metadata": {},
   "outputs": [],
   "source": []
  },
  {
   "cell_type": "code",
   "execution_count": null,
   "metadata": {},
   "outputs": [],
   "source": []
  },
  {
   "cell_type": "code",
   "execution_count": 21,
   "metadata": {},
   "outputs": [],
   "source": [
    "\n",
    "#Plot the forecast\n",
    "\n",
    "# convert date of the epidemic peak into datetime format\n",
    "from datetime import datetime, timedelta\n",
    "date_zero = datetime.strptime(str(data[\"date\"][starting_date]), '%Y%m%d')\n",
    "\n",
    "# creating x_ticks for making the plot more appealing\n",
    "date_prev = []\n",
    "x_ticks = []\n",
    "step = 5\n",
    "\n",
    "data_curr = date_zero\n",
    "\n",
    "x_current = starting_date\n",
    "n = int(future_days / step)\n",
    "for i in range(0, n):\n",
    "    date_prev.append(str(data_curr.day) + \"/\" + str(data_curr.month))\n",
    "    x_ticks.append(x_current)\n",
    "    data_curr = data_curr + timedelta(days=step)\n",
    "    x_current = x_current + step\n",
    "    \n"
   ]
  },
  {
   "cell_type": "code",
   "execution_count": 22,
   "metadata": {},
   "outputs": [
    {
     "data": {
      "image/png": "[encoded data removed]",
      "text/plain": [
       "<Figure size 432x288 with 1 Axes>"
      ]
     },
     "metadata": {
      "needs_background": "light"
     },
     "output_type": "display_data"
    }
   ],
   "source": [
    "# plot known data\n",
    "plt.grid()\n",
    "plt.scatter(X, y)\n",
    "\n",
    "# plot linear regression prediction\n",
    "plt.plot(X_test, y_pred_linear, color='green', linewidth=2)\n",
    "\n",
    "# plot maximum error\n",
    "plt.plot(X_test, y_pred_max, color='red', linewidth=1, linestyle='dashed')\n",
    "\n",
    "#plot minimum error\n",
    "plt.plot(X_test, y_pred_min, color='red', linewidth=1, linestyle='dashed')\n",
    "plt.xlabel('Days')\n",
    "plt.xlim(starting_date, starting_date + future_days)\n",
    "plt.xticks(x_ticks, date_prev)\n",
    "plt.ylabel('serious death')\n",
    "plt.yscale(\"log\")\n",
    "plt.savefig(\"prediction.png\")\n",
    "plt.show()"
   ]
  },
  {
   "cell_type": "code",
   "execution_count": 23,
   "metadata": {},
   "outputs": [
    {
     "name": "stdout",
     "output_type": "stream",
     "text": [
      "\n",
      "Zero intensive cares and deaths expected between 03/05/2020 and 13/05/2020\n"
     ]
    }
   ],
   "source": [
    "\n",
    "import math\n",
    "def n_to_date(n):\n",
    "    #it converts a number to a date, considering starting from starting_date\n",
    "    return (date_zero + timedelta(days=n-starting_date)).strftime('%d/%m/%Y')\n",
    "def build_line(x1,y1,x2,y2):\n",
    "    m = float(y2 - y1)/(x2-x1)\n",
    "    q = y1 - (m*x1)\n",
    "    return [m,q]\n",
    "\n",
    "data_zero = round(- linear_regr.intercept_ / linear_regr.coef_[0])\n",
    "\n",
    "line_max = build_line(X_test[0][0], y_pred_max[0], X_test[1][0], y_pred_max[1])\n",
    "data_zero_max = math.ceil(- line_max[1] / line_max[0])\n",
    "data_zero_max = n_to_date(data_zero_max)\n",
    "\n",
    "line_min = build_line(X_test[0][0], y_pred_min[0], X_test[1][0], y_pred_min[1])\n",
    "data_zero_min = math.floor(- line_min[1] / line_min[0])\n",
    "data_zero_min = n_to_date(data_zero_min)\n",
    "print ()\n",
    "print (\"Zero intensive cares and deaths expected between %s and %s\" % (data_zero_min, data_zero_max))"
   ]
  },
  {
   "cell_type": "code",
   "execution_count": null,
   "metadata": {},
   "outputs": [],
   "source": []
  },
  {
   "cell_type": "code",
   "execution_count": null,
   "metadata": {},
   "outputs": [],
   "source": []
  },
  {
   "cell_type": "code",
   "execution_count": 24,
   "metadata": {},
   "outputs": [
    {
     "name": "stdout",
     "output_type": "stream",
     "text": [
      "Zone 1 accounts for 41.17 percent of the total deaths\n"
     ]
    }
   ],
   "source": [
    "#Regional Trends \n",
    "#zone1 West Coast\n",
    "#NY and NJ\n",
    "data = pd.read_csv(\"https://raw.githubusercontent.com/willmarawee/COVID-19-Infection-and-Mobility/master/combined_csv.csv\")\n",
    "zone1_df = data[data.Province_State.isin(['New York','New Jersey'])]\n",
    "zone1_df['Deaths'].sum()\n",
    "print(\"Zone 1 accounts for %s percent of the total deaths\" % (round(zone1_df['Deaths'].sum() / data['Deaths'].sum() * 100,2)))\n"
   ]
  },
  {
   "cell_type": "code",
   "execution_count": 25,
   "metadata": {},
   "outputs": [
    {
     "name": "stdout",
     "output_type": "stream",
     "text": [
      "Zone 2 accounts for 4.95 percent of the total deaths\n"
     ]
    }
   ],
   "source": [
    "#Regional Trends\n",
    "#zone2 East Coast\n",
    "#CA and WA\n",
    "data = pd.read_csv(\"https://raw.githubusercontent.com/willmarawee/COVID-19-Infection-and-Mobility/master/combined_csv.csv\")\n",
    "zone2_df = data[data.Province_State.isin(['California','Washington'])]\n",
    "zone2_df['Deaths'].sum()\n",
    "print(\"Zone 2 accounts for %s percent of the total deaths\" % (round(zone2_df['Deaths'].sum() / data['Deaths'].sum() * 100,2)))\n"
   ]
  },
  {
   "cell_type": "code",
   "execution_count": 26,
   "metadata": {},
   "outputs": [
    {
     "name": "stdout",
     "output_type": "stream",
     "text": [
      "Zone 3 accounts for 1.36 percent of the total deaths\n"
     ]
    }
   ],
   "source": [
    "#Regional Trends\n",
    "#zone3\n",
    "#Colorado\n",
    "data = pd.read_csv(\"https://raw.githubusercontent.com/willmarawee/COVID-19-Infection-and-Mobility/master/combined_csv.csv\")\n",
    "zone3_df = data[data.Province_State.isin(['Colorado'])]\n",
    "zone3_df['Deaths'].sum()\n",
    "print(\"Zone 3 accounts for %s percent of the total deaths\" % (round(zone3_df['Deaths'].sum() / data['Deaths'].sum() * 100,2)))\n"
   ]
  },
  {
   "cell_type": "code",
   "execution_count": 27,
   "metadata": {},
   "outputs": [
    {
     "name": "stdout",
     "output_type": "stream",
     "text": [
      "Zone 4 accounts for 1.55 percent of the total deaths\n"
     ]
    }
   ],
   "source": [
    "#Regional Trends\n",
    "#zone4\n",
    "#TX\n",
    "data = pd.read_csv(\"https://raw.githubusercontent.com/willmarawee/COVID-19-Infection-and-Mobility/master/combined_csv.csv\")\n",
    "zone4_df = data[data.Province_State.isin(['Texas'])]\n",
    "zone4_df['Deaths'].sum()\n",
    "print(\"Zone 4 accounts for %s percent of the total deaths\" % (round(zone4_df['Deaths'].sum() / data['Deaths'].sum() * 100,2)))\n"
   ]
  },
  {
   "cell_type": "code",
   "execution_count": null,
   "metadata": {},
   "outputs": [],
   "source": []
  }
 ],
 "metadata": {
  "kernelspec": {
   "display_name": "Python 3",
   "language": "python",
   "name": "python3"
  },
  "language_info": {
   "codemirror_mode": {
    "name": "ipython",
    "version": 3
   },
   "file_extension": ".py",
   "mimetype": "text/x-python",
   "name": "python",
   "nbconvert_exporter": "python",
   "pygments_lexer": "ipython3",
   "version": "3.7.4"
  }
 },
 "nbformat": 4,
 "nbformat_minor": 2
}
